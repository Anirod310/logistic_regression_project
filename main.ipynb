{
 "cells": [
  {
   "cell_type": "code",
   "execution_count": 103,
   "metadata": {},
   "outputs": [],
   "source": [
    "#import all librairies i need\n",
    "import numpy as np\n",
    "import matplotlib.pyplot as plt\n",
    "import math\n",
    "import csv"
   ]
  },
  {
   "cell_type": "code",
   "execution_count": 104,
   "metadata": {},
   "outputs": [],
   "source": [
    "#open and read the data_file\n",
    "\n",
    "with open('./data.csv', 'r') as csvfile :\n",
    "    reader = csv.reader(csvfile)\n",
    "    \n",
    "    data = []\n",
    "    for row in reader:\n",
    "        data.append(row)\n",
    "    \n",
    "    data_np = np.array(data[1:], dtype='float')\n",
    "    #rounded_data_np = data_np.round(1)\n"
   ]
  },
  {
   "cell_type": "code",
   "execution_count": 105,
   "metadata": {},
   "outputs": [
    {
     "name": "stdout",
     "output_type": "stream",
     "text": [
      "(153, 8) (153,)\n"
     ]
    }
   ],
   "source": [
    "#plot train_datas\n",
    "X_train = data_np[:615, :-1]\n",
    "X_test = data_np[615:, :-1]\n",
    "y_train = data_np[:615, -1]\n",
    "y_test = data_np[615:, -1]\n",
    "\n",
    "print(X_test.shape, y_test.shape)"
   ]
  },
  {
   "cell_type": "code",
   "execution_count": 106,
   "metadata": {},
   "outputs": [],
   "source": [
    "def z_normalisation(X):\n",
    "    \n",
    "    mu = np.mean(X, axis = 0)\n",
    "    sigma = np.std(X, axis = 0)\n",
    "    \n",
    "    X_norm = (X - mu) / sigma\n",
    "    \n",
    "    return X_norm"
   ]
  },
  {
   "cell_type": "code",
   "execution_count": 107,
   "metadata": {},
   "outputs": [],
   "source": [
    "#data normalized\n",
    "\n",
    "X_train = z_normalisation(X_train)\n",
    "X_test = z_normalisation(X_test)"
   ]
  },
  {
   "cell_type": "code",
   "execution_count": 108,
   "metadata": {},
   "outputs": [],
   "source": [
    "def sigmoid(z):\n",
    "    \n",
    "    g = 1/(1 + np.exp(-z))\n",
    "    \n",
    "    return g"
   ]
  },
  {
   "cell_type": "code",
   "execution_count": 109,
   "metadata": {},
   "outputs": [],
   "source": [
    "def compute_cost(X, y, w, b, lambda_ = 1):\n",
    "    \n",
    "    m = X.shape[0]\n",
    "    cost = 0\n",
    "    \n",
    "    for i in range(m):\n",
    "        f_wb = sigmoid(np.dot(X[i], w) + b)\n",
    "        cost += -y[i] * np.log(f_wb) - (1 - y[i]) * np.log(1 - f_wb)\n",
    "    \n",
    "    total_cost = cost / m \n",
    "    \n",
    "    return total_cost"
   ]
  },
  {
   "cell_type": "code",
   "execution_count": 110,
   "metadata": {},
   "outputs": [],
   "source": [
    "def compute_gradient(X, y, w, b, lambda_ = None):\n",
    "    \n",
    "    m, n = X.shape\n",
    "    \n",
    "    db = 0\n",
    "    dw = np.zeros((n,))\n",
    "    \n",
    "    for i in range(m):\n",
    "        f_wb = sigmoid(np.dot(X[i], w) + b)\n",
    "        err = f_wb - y[i]\n",
    "        \n",
    "        db += err\n",
    "        for j in range(n):\n",
    "            dw[j] += err * X[i, j]\n",
    "\n",
    "    \n",
    "    db /= m                   \n",
    "    dw /= m\n",
    "    \n",
    "    return db, dw"
   ]
  },
  {
   "cell_type": "code",
   "execution_count": 111,
   "metadata": {},
   "outputs": [],
   "source": [
    "def gradient_descent(X, y, w, b, compute_cost, compute_gradient, num_iter, alpha, lambda_):\n",
    "    \n",
    "    m = len(X)\n",
    "    \n",
    "    J_history = []\n",
    "    w_history = []\n",
    "    \n",
    "    for i in range(num_iter):\n",
    "        \n",
    "        db, dw = compute_gradient(X, y, w, b, lambda_)\n",
    "        \n",
    "        w = w - alpha * dw\n",
    "        b = b - alpha * db\n",
    "        \n",
    "        if i < 10000:\n",
    "            cost = compute_cost(X, y, w, b, lambda_)\n",
    "            J_history.append(cost)\n",
    "        \n",
    "        if i% math.ceil(num_iter/10) == 0 or i == (num_iter-1):\n",
    "            w_history.append(w)\n",
    "            print(f\"Iteration {i:4}: Cost {float(J_history[-1]):8.2f}   \")\n",
    "    \n",
    "    return w, b, J_history, w_history"
   ]
  },
  {
   "cell_type": "code",
   "execution_count": 112,
   "metadata": {},
   "outputs": [],
   "source": [
    "w = np.zeros(X_train.shape[1])\n",
    "b = 0\n",
    "iterations = 500\n",
    "alpha = 0.1"
   ]
  },
  {
   "cell_type": "code",
   "execution_count": 113,
   "metadata": {},
   "outputs": [
    {
     "name": "stdout",
     "output_type": "stream",
     "text": [
      "Iteration    0: Cost     0.69   \n"
     ]
    },
    {
     "name": "stdout",
     "output_type": "stream",
     "text": [
      "Iteration  100: Cost     0.50   \n",
      "Iteration  200: Cost     0.48   \n",
      "Iteration  300: Cost     0.47   \n",
      "Iteration  400: Cost     0.47   \n",
      "Iteration  500: Cost     0.47   \n",
      "Iteration  600: Cost     0.47   \n",
      "Iteration  700: Cost     0.47   \n",
      "Iteration  800: Cost     0.47   \n",
      "Iteration  900: Cost     0.47   \n",
      "Iteration  999: Cost     0.47   \n",
      "Values of w : [ 0.40374924  1.05938441 -0.20296208 -0.04259935 -0.08908699  0.80692511\n",
      "  0.35410818  0.12143695]\n",
      "Value of b : -0.8881293950324081\n"
     ]
    }
   ],
   "source": [
    "w,b, J_history,_ = gradient_descent(X_train ,y_train, w, b, compute_cost, compute_gradient, iterations, alpha, 0)\n",
    "print(f'Values of w : {w}\\nValue of b : {b}')"
   ]
  },
  {
   "cell_type": "code",
   "execution_count": 114,
   "metadata": {},
   "outputs": [],
   "source": [
    "#prediction function\n",
    "def predict(X, w, b):\n",
    "    m, n = X.shape\n",
    "    p = np.zeros(m)\n",
    "    \n",
    "    for i in range(m):\n",
    "        f_wb = sigmoid(np.dot(X[i], w) + b)\n",
    "        p[i] = 1 if f_wb >= 0.5 else 0\n",
    "    \n",
    "    return p "
   ]
  },
  {
   "cell_type": "code",
   "execution_count": 115,
   "metadata": {},
   "outputs": [
    {
     "name": "stdout",
     "output_type": "stream",
     "text": [
      "The model is accurate at 76.47058823529412 %\n"
     ]
    }
   ],
   "source": [
    "#accuracy of the model\n",
    "p = predict(X_test, w, b)\n",
    "\n",
    "print(f'The model is accurate at {np.mean(p == y_test)*100} %')"
   ]
  }
 ],
 "metadata": {
  "kernelspec": {
   "display_name": "base",
   "language": "python",
   "name": "python3"
  },
  "language_info": {
   "codemirror_mode": {
    "name": "ipython",
    "version": 3
   },
   "file_extension": ".py",
   "mimetype": "text/x-python",
   "name": "python",
   "nbconvert_exporter": "python",
   "pygments_lexer": "ipython3",
   "version": "3.9.13"
  },
  "orig_nbformat": 4
 },
 "nbformat": 4,
 "nbformat_minor": 2
}
